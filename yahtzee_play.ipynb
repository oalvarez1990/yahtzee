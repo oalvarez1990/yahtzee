{
  "cells": [
    {
      "cell_type": "code",
      "execution_count": null,
      "metadata": {
        "id": "s_8SR4cn9O9X"
      },
      "outputs": [],
      "source": [
        "# import random\n",
        "import random\n",
        "\n",
        "# install ipywidgets\n",
        "%pip install ipywidgets\n"
      ]
    },
    {
      "cell_type": "markdown",
      "metadata": {},
      "source": [
        "## Clase dice"
      ]
    },
    {
      "cell_type": "code",
      "execution_count": null,
      "metadata": {
        "id": "1zgvPfcP-Yfn"
      },
      "outputs": [],
      "source": [
        "# init code  dice\n",
        "class Dice:\n",
        "    def __init__(self):\n",
        "        self.value = random.randint(1, 6)\n",
        "\n",
        "    def roll(self):\n",
        "        self.value = random.randint(1, 6)\n"
      ]
    },
    {
      "cell_type": "markdown",
      "metadata": {},
      "source": [
        "## ScoreCard"
      ]
    },
    {
      "cell_type": "code",
      "execution_count": null,
      "metadata": {
        "id": "mq064HH2-eT0"
      },
      "outputs": [],
      "source": [
        "# init ScoreCard\n",
        "class Scorecard:\n",
        "    def __init__(self):\n",
        "        self.scores = {\n",
        "            \"ones\": None,\n",
        "            \"twos\": None,\n",
        "            \"threes\": None,\n",
        "            \"fours\": None,\n",
        "            \"fives\": None,\n",
        "            \"sixes\": None,\n",
        "            \"three_of_a_kind\": None,\n",
        "            \"four_of_a_kind\": None,\n",
        "            \"full_house\": None,\n",
        "            \"small_straight\": None,\n",
        "            \"large_straight\": None,\n",
        "            \"yahtzee\": None,\n",
        "            \"chance\": None\n",
        "        }\n",
        "\n",
        "    def calculate_three_of_a_kind(self, dice):\n",
        "        return sum(dice) if any(dice.count(x) >= 3 for x in dice) else 0\n",
        "\n",
        "    def calculate_four_of_a_kind(self, dice):\n",
        "        return sum(dice) if any(dice.count(x) >= 4 for x in dice) else 0\n",
        "\n",
        "    def calculate_full_house(self, dice):\n",
        "        unique_dice = set(dice)\n",
        "        if len(unique_dice) == 2 and dice.count(dice[0]) in [2, 3]:\n",
        "            return 25\n",
        "        return 0\n",
        "\n",
        "    def calculate_small_straight(self, dice):\n",
        "        unique_dice = set(dice)\n",
        "        straights = [{1, 2, 3, 4}, {2, 3, 4, 5}, {3, 4, 5, 6}]\n",
        "        return 30 if any(straight.issubset(unique_dice) for straight in straights) else 0\n",
        "\n",
        "    def calculate_large_straight(self, dice):\n",
        "        unique_dice = set(dice)\n",
        "        straights = [{1, 2, 3, 4, 5}, {2, 3, 4, 5, 6}]\n",
        "        return 40 if any(straight == unique_dice for straight in straights) else 0\n",
        "\n",
        "    def calculate_yahtzee(self, dice):\n",
        "        return 50 if len(set(dice)) == 1 else 0\n",
        "\n",
        "    def calculate_chance(self, dice):\n",
        "        return sum(dice)\n",
        "\n",
        "    def total_score(self):\n",
        "        return sum(score for score in self.scores.values() if score is not None)"
      ]
    },
    {
      "cell_type": "markdown",
      "metadata": {},
      "source": [
        "## Clase player"
      ]
    },
    {
      "cell_type": "code",
      "execution_count": null,
      "metadata": {
        "id": "LFRQ5dqF-igA"
      },
      "outputs": [],
      "source": [
        "#\n",
        "class Player:\n",
        "    def __init__(self, name):\n",
        "        self.name = name\n",
        "        self.dice = [Dice() for _ in range(5)]\n",
        "        self.scorecard = Scorecard()\n",
        "\n",
        "    def roll_dice(self, indices=None):\n",
        "        if indices is None:\n",
        "            for dice in self.dice:\n",
        "                dice.roll()\n",
        "        else:\n",
        "            for i in indices:\n",
        "                self.dice[i].roll()"
      ]
    },
    {
      "cell_type": "code",
      "execution_count": null,
      "metadata": {},
      "outputs": [],
      "source": [
        "# import ipywidgets\n",
        "import ipywidgets as widgets\n",
        "from IPython.display import display, clear_output\n",
        "\n",
        "# Function show dice\n",
        "\n",
        "\n",
        "def mostrar_dados(player):\n",
        "    return [dice.value for dice in player.dice]\n",
        "\n",
        "\n",
        "def mostrar_posibles_puntuaciones(player):\n",
        "    dice_values = [dice.value for dice in player.dice]\n",
        "    posibles_puntuaciones = {\n",
        "        \"1. Ones\": dice_values.count(1) * 1,\n",
        "        \"2. Twos\": dice_values.count(2) * 2,\n",
        "        \"3. Threes\": dice_values.count(3) * 3,\n",
        "        \"4. Fours\": dice_values.count(4) * 4,\n",
        "        \"5. Fives\": dice_values.count(5) * 5,\n",
        "        \"6. Sixes\": dice_values.count(6) * 6,\n",
        "        \"7. Three of a kind\": player.scorecard.calculate_three_of_a_kind(dice_values),\n",
        "        \"8. Four of a kind\": player.scorecard.calculate_four_of_a_kind(dice_values),\n",
        "        \"9. Full house\": player.scorecard.calculate_full_house(dice_values),\n",
        "        \"10. Small straight\": player.scorecard.calculate_small_straight(dice_values),\n",
        "        \"11. Large straight\": player.scorecard.calculate_large_straight(dice_values),\n",
        "        \"12. Yahtzee\": player.scorecard.calculate_yahtzee(dice_values),\n",
        "        \"13. Chance\": player.scorecard.calculate_chance(dice_values)\n",
        "    }\n",
        "    return posibles_puntuaciones"
      ]
    },
    {
      "cell_type": "markdown",
      "metadata": {},
      "source": [
        "## Clase Game"
      ]
    },
    {
      "cell_type": "code",
      "execution_count": null,
      "metadata": {
        "id": "mwEiSWzh-oNp"
      },
      "outputs": [],
      "source": [
        "# \n",
        "class Game:\n",
        "    def __init__(self, players):\n",
        "        self.players = [Player(name) for name in players]\n",
        "        self.current_player_index = 0\n",
        "        self.turns = 0\n",
        "        self.play_game()\n",
        "\n",
        "    def play_game(self):\n",
        "        while not self.is_game_over():\n",
        "            self.play_turn()\n",
        "        winner = self.determine_winner()\n",
        "        print(f\"\\nEl ganador es {winner[0]} con una puntuación de {winner[1]}!\")\n",
        "\n",
        "    def play_turn(self):\n",
        "        player = self.players[self.current_player_index]\n",
        "        print(f\"\\nTurno de {player.name}:\")\n",
        "        reroll_indices = []\n",
        "\n",
        "        for i in range(3):\n",
        "            player.roll_dice(reroll_indices if i > 0 else None)\n",
        "            print(f\"Tirada {i + 1}: {mostrar_dados(player)}\")\n",
        "            if i < 2:\n",
        "                reroll_input = input(\"Ingrese los índices de los dados a volver a tirar (separados por comas) o 'n' para continuar: \")\n",
        "                if reroll_input.lower() == 'n':\n",
        "                    break\n",
        "                try:\n",
        "                    reroll_indices = [int(x.strip()) - 1 for x in reroll_input.split(\",\")]\n",
        "                except ValueError:\n",
        "                    print(\"Entrada no válida. Por favor, ingrese índices válidos.\")\n",
        "                    reroll_indices = []\n",
        "\n",
        "        print(f\"Dados finales: {mostrar_dados(player)}\")\n",
        "        posibles_puntuaciones = mostrar_posibles_puntuaciones(player)\n",
        "        print(\"Puntuaciones posibles:\")\n",
        "        for key, value in posibles_puntuaciones.items():\n",
        "            print(f\"{key}: {value}\")\n",
        "\n",
        "        choice = -1\n",
        "        while choice not in range(1, 14):\n",
        "            try:\n",
        "                choice = int(input(\"Elija dónde puntuar (1-13): \"))\n",
        "            except ValueError:\n",
        "                print(\"Entrada no válida. Por favor, ingrese un número entre 1 y 13.\")\n",
        "\n",
        "        if choice == 1:\n",
        "            player.scorecard.scores[\"ones\"] = posibles_puntuaciones[\"1. Ones\"]\n",
        "        elif choice == 2:\n",
        "            player.scorecard.scores[\"twos\"] = posibles_puntuaciones[\"2. Twos\"]\n",
        "        elif choice == 3:\n",
        "            player.scorecard.scores[\"threes\"] = posibles_puntuaciones[\"3. Threes\"]\n",
        "        elif choice == 4:\n",
        "            player.scorecard.scores[\"fours\"] = posibles_puntuaciones[\"4. Fours\"]\n",
        "        elif choice == 5:\n",
        "            player.scorecard.scores[\"fives\"] = posibles_puntuaciones[\"5. Fives\"]\n",
        "        elif choice == 6:\n",
        "            player.scorecard.scores[\"sixes\"] = posibles_puntuaciones[\"6. Sixes\"]\n",
        "        elif choice == 7:\n",
        "            player.scorecard.scores[\"three_of_a_kind\"] = posibles_puntuaciones[\"7. Three of a kind\"]\n",
        "        elif choice == 8:\n",
        "            player.scorecard.scores[\"four_of_a_kind\"] = posibles_puntuaciones[\"8. Four of a kind\"]\n",
        "        elif choice == 9:\n",
        "            player.scorecard.scores[\"full_house\"] = posibles_puntuaciones[\"9. Full house\"]\n",
        "        elif choice == 10:\n",
        "            player.scorecard.scores[\"small_straight\"] = posibles_puntuaciones[\"10. Small straight\"]\n",
        "        elif choice == 11:\n",
        "            player.scorecard.scores[\"large_straight\"] = posibles_puntuaciones[\"11. Large straight\"]\n",
        "        elif choice == 12:\n",
        "            player.scorecard.scores[\"yahtzee\"] = posibles_puntuaciones[\"12. Yahtzee\"]\n",
        "        elif choice == 13:\n",
        "            player.scorecard.scores[\"chance\"] = posibles_puntuaciones[\"13. Chance\"]\n",
        "\n",
        "        self.current_player_index = (self.current_player_index + 1) % len(self.players)\n",
        "        self.turns += 1\n",
        "\n",
        "    def is_game_over(self):\n",
        "        return self.turns >= 13 * len(self.players)\n",
        "\n",
        "    def determine_winner(self):\n",
        "        scores = [(player.name, player.scorecard.total_score()) for player in self.players]\n",
        "        return max(scores, key=lambda x: x[1])\n"
      ]
    },
    {
      "cell_type": "markdown",
      "metadata": {},
      "source": [
        "## Code main"
      ]
    },
    {
      "cell_type": "code",
      "execution_count": null,
      "metadata": {
        "id": "mzjIyttS-y8o"
      },
      "outputs": [],
      "source": [
        "# main\n",
        "players = [\"Jugador 1\", \"Jugador 2\"]\n",
        "game = Game(players)\n",
        "\n"
      ]
    }
  ],
  "metadata": {
    "colab": {
      "provenance": []
    },
    "kernelspec": {
      "display_name": "Python 3",
      "name": "python3"
    },
    "language_info": {
      "codemirror_mode": {
        "name": "ipython",
        "version": 3
      },
      "file_extension": ".py",
      "mimetype": "text/x-python",
      "name": "python",
      "nbconvert_exporter": "python",
      "pygments_lexer": "ipython3",
      "version": "3.10.12"
    }
  },
  "nbformat": 4,
  "nbformat_minor": 0
}
